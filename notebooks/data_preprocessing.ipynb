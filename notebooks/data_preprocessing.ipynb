{
 "cells": [
  {
   "cell_type": "code",
   "execution_count": 1,
   "metadata": {},
   "outputs": [
    {
     "name": "stdout",
     "output_type": "stream",
     "text": [
      "\u001b[0;94m Static hostname:\u001b[0m DGX\n",
      "\u001b[0;94m       Icon name:\u001b[0m computer-server\n",
      "\u001b[0;94m         Chassis:\u001b[0m server 🖳\n",
      "\u001b[0;94m      Machine ID:\u001b[0m dedf5691225742ff95b33f842b0781cc\n",
      "\u001b[0;94m         Boot ID:\u001b[0m cb04df0ff1774eeda112c63867eeefdd\n",
      "\u001b[0;94mOperating System:\u001b[0m \u001b]8;;https://www.ubuntu.com/\u0007Ubuntu 24.04.2 LTS\u001b]8;;\u0007              \n",
      "\u001b[0;94m          Kernel:\u001b[0m Linux 6.8.0-53-generic\n",
      "\u001b[0;94m    Architecture:\u001b[0m x86-64\n",
      "\u001b[0;94m Hardware Vendor:\u001b[0m NVIDIA\n",
      "\u001b[0;94m  Hardware Model:\u001b[0m DGXA100 920-23687-2530-002\n",
      "\u001b[0;94mFirmware Version:\u001b[0m 1.29\n",
      "\u001b[0;94m   Firmware Date:\u001b[0m Tue 2024-08-06\n",
      "\u001b[0;94m    Firmware Age:\u001b[0m 7month 2w 3d\n"
     ]
    }
   ],
   "source": [
    "!hostnamectl"
   ]
  },
  {
   "cell_type": "code",
   "execution_count": 2,
   "metadata": {},
   "outputs": [],
   "source": [
    "import torch\n",
    "import pandas as pd"
   ]
  },
  {
   "cell_type": "code",
   "execution_count": 3,
   "metadata": {},
   "outputs": [
    {
     "data": {
      "text/plain": [
       "True"
      ]
     },
     "execution_count": 3,
     "metadata": {},
     "output_type": "execute_result"
    }
   ],
   "source": [
    "torch.cuda.is_available()"
   ]
  },
  {
   "cell_type": "code",
   "execution_count": 4,
   "metadata": {},
   "outputs": [
    {
     "name": "stdout",
     "output_type": "stream",
     "text": [
      "Downloading from https://www.kaggle.com/api/v1/datasets/download/fedesoriano/cifar100?dataset_version_number=1...\n"
     ]
    },
    {
     "name": "stderr",
     "output_type": "stream",
     "text": [
      "100%|██████████| 161M/161M [00:07<00:00, 23.7MB/s] "
     ]
    },
    {
     "name": "stdout",
     "output_type": "stream",
     "text": [
      "Extracting files...\n"
     ]
    },
    {
     "name": "stderr",
     "output_type": "stream",
     "text": [
      "\n"
     ]
    },
    {
     "name": "stdout",
     "output_type": "stream",
     "text": [
      "Path to dataset files: /home/ir739wb/.cache/kagglehub/datasets/fedesoriano/cifar100/versions/1\n"
     ]
    }
   ],
   "source": [
    "import kagglehub\n",
    "\n",
    "# Download latest version\n",
    "path = kagglehub.dataset_download(\"fedesoriano/cifar100\")\n",
    "\n",
    "print(\"Path to dataset files:\", path)"
   ]
  },
  {
   "cell_type": "code",
   "execution_count": null,
   "metadata": {},
   "outputs": [],
   "source": []
  }
 ],
 "metadata": {
  "kernelspec": {
   "display_name": "Python 3 (ipykernel)",
   "language": "python",
   "name": "python3"
  },
  "language_info": {
   "codemirror_mode": {
    "name": "ipython",
    "version": 3
   },
   "file_extension": ".py",
   "mimetype": "text/x-python",
   "name": "python",
   "nbconvert_exporter": "python",
   "pygments_lexer": "ipython3",
   "version": "3.12.9"
  }
 },
 "nbformat": 4,
 "nbformat_minor": 2
}
